{
  "nbformat": 4,
  "nbformat_minor": 0,
  "metadata": {
    "colab": {
      "provenance": [],
      "gpuType": "V100"
    },
    "kernelspec": {
      "name": "python3",
      "display_name": "Python 3"
    },
    "language_info": {
      "name": "python"
    },
    "accelerator": "GPU"
  },
  "cells": [
    {
      "cell_type": "markdown",
      "source": [
        "## **데이콘 뉴스 기사 레이블 복구 해커톤**\n",
        "\n",
        "본 프로젝트는 뉴스 데이터셋의 'category'필드를 복구하는 것을 목적으로 한다.  \n",
        "데이터셋은 6개의 카테고리로 분류되어야 하며, 6만 행으로 이루어진 csv 파일이다. 파일에는 'id'와 'text'필드만 있다.  \n",
        "복구해야 하는 카테고리 종류는 다음과 같다.  \n",
        "0: Business  \n",
        "1: Entertainment  \n",
        "2: Politics  \n",
        "3: Sports  \n",
        "4: Tech  \n",
        "5: World\n",
        "\n",
        "\n",
        "-------------------\n",
        "Dataset Info.  \n",
        "news.csv  \n",
        "id : 샘플 고유 id  \n",
        "title : 뉴스 기사 제목  \n",
        "content : 뉴스 기사 전문  "
      ],
      "metadata": {
        "id": "3KJJr8AOvQW9"
      }
    },
    {
      "cell_type": "code",
      "source": [
        "gpu_info = !nvidia-smi\n",
        "gpu_info = '\\n'.join(gpu_info)\n",
        "if gpu_info.find('failed') >= 0:\n",
        "  print('Not connected to a GPU')\n",
        "else:\n",
        "  print(gpu_info)"
      ],
      "metadata": {
        "colab": {
          "base_uri": "https://localhost:8080/"
        },
        "id": "SJWyRrdhvUJj",
        "outputId": "bf2e934f-8a21-4bcf-926f-4b0ac6a6bdc5"
      },
      "execution_count": 14,
      "outputs": [
        {
          "output_type": "stream",
          "name": "stdout",
          "text": [
            "Tue Sep 26 18:30:51 2023       \n",
            "+-----------------------------------------------------------------------------+\n",
            "| NVIDIA-SMI 525.105.17   Driver Version: 525.105.17   CUDA Version: 12.0     |\n",
            "|-------------------------------+----------------------+----------------------+\n",
            "| GPU  Name        Persistence-M| Bus-Id        Disp.A | Volatile Uncorr. ECC |\n",
            "| Fan  Temp  Perf  Pwr:Usage/Cap|         Memory-Usage | GPU-Util  Compute M. |\n",
            "|                               |                      |               MIG M. |\n",
            "|===============================+======================+======================|\n",
            "|   0  Tesla V100-SXM2...  Off  | 00000000:00:04.0 Off |                    0 |\n",
            "| N/A   32C    P0    24W / 300W |      2MiB / 16384MiB |      0%      Default |\n",
            "|                               |                      |                  N/A |\n",
            "+-------------------------------+----------------------+----------------------+\n",
            "                                                                               \n",
            "+-----------------------------------------------------------------------------+\n",
            "| Processes:                                                                  |\n",
            "|  GPU   GI   CI        PID   Type   Process name                  GPU Memory |\n",
            "|        ID   ID                                                   Usage      |\n",
            "|=============================================================================|\n",
            "|  No running processes found                                                 |\n",
            "+-----------------------------------------------------------------------------+\n"
          ]
        }
      ]
    },
    {
      "cell_type": "code",
      "execution_count": 1,
      "metadata": {
        "id": "jouc98_YagBw"
      },
      "outputs": [],
      "source": [
        "import re\n",
        "import numpy as np\n",
        "import pandas as pd\n",
        "import spacy\n",
        "import nltk\n",
        "from nltk.corpus import stopwords\n",
        "from nltk.stem import WordNetLemmatizer\n",
        "import gensim\n",
        "from gensim.models import FastText\n",
        "from sklearn.feature_extraction.text import TfidfVectorizer\n",
        "from sklearn.cluster import KMeans\n",
        "import matplotlib.pyplot as plt\n",
        "from sklearn.decomposition import PCA\n",
        "from tqdm import tqdm"
      ]
    },
    {
      "cell_type": "code",
      "source": [
        "df = pd.read_csv('news.csv')"
      ],
      "metadata": {
        "id": "fnBpew6fa0hB"
      },
      "execution_count": 2,
      "outputs": []
    },
    {
      "cell_type": "code",
      "source": [
        "df"
      ],
      "metadata": {
        "colab": {
          "base_uri": "https://localhost:8080/",
          "height": 423
        },
        "id": "p8rgD6q7b0j1",
        "outputId": "e6565a2f-2e88-491a-dc1b-ae7811a62f29"
      },
      "execution_count": 3,
      "outputs": [
        {
          "output_type": "execute_result",
          "data": {
            "text/plain": [
              "               id                                              title  \\\n",
              "0      NEWS_00000            Spanish coach facing action in race row   \n",
              "1      NEWS_00001                  Bruce Lee statue for divided city   \n",
              "2      NEWS_00002  Only Lovers Left Alive's Tilda Swinton Talks A...   \n",
              "3      NEWS_00003              Macromedia contributes to eBay Stores   \n",
              "4      NEWS_00004  Qualcomm plans to phone it in on cellular repairs   \n",
              "...           ...                                                ...   \n",
              "59995  NEWS_59995     Dolphins Break Through, Rip Rams For First Win   \n",
              "59996  NEWS_59996               After Steep Drop, Price of Oil Rises   \n",
              "59997  NEWS_59997             Pro football: Culpepper puts on a show   \n",
              "59998  NEWS_59998                          Albertsons on the Rebound   \n",
              "59999  NEWS_59999         Cassini Craft Spies Saturn Moon Dione (AP)   \n",
              "\n",
              "                                                contents  \n",
              "0      MADRID (AFP) - Spanish national team coach Lui...  \n",
              "1      In Bosnia, where one man #39;s hero is often a...  \n",
              "2      Yasmine Hamdan performs 'Hal' which she also s...  \n",
              "3      Macromedia has announced a special version of ...  \n",
              "4      Over-the-air fixes for cell phones comes to Qu...  \n",
              "...                                                  ...  \n",
              "59995  But that #39;s OK. Because after a 31-14 rout ...  \n",
              "59996  The freefall in oil prices ended Monday on a s...  \n",
              "59997  To say Daunte Culpepper was a little frustrate...  \n",
              "59998  The No. 2 grocer reports double-digit gains in...  \n",
              "59999  AP - The Cassini spacecraft's close flyby of S...  \n",
              "\n",
              "[60000 rows x 3 columns]"
            ],
            "text/html": [
              "\n",
              "  <div id=\"df-811a643c-be3c-4890-aa68-2f74849ab528\" class=\"colab-df-container\">\n",
              "    <div>\n",
              "<style scoped>\n",
              "    .dataframe tbody tr th:only-of-type {\n",
              "        vertical-align: middle;\n",
              "    }\n",
              "\n",
              "    .dataframe tbody tr th {\n",
              "        vertical-align: top;\n",
              "    }\n",
              "\n",
              "    .dataframe thead th {\n",
              "        text-align: right;\n",
              "    }\n",
              "</style>\n",
              "<table border=\"1\" class=\"dataframe\">\n",
              "  <thead>\n",
              "    <tr style=\"text-align: right;\">\n",
              "      <th></th>\n",
              "      <th>id</th>\n",
              "      <th>title</th>\n",
              "      <th>contents</th>\n",
              "    </tr>\n",
              "  </thead>\n",
              "  <tbody>\n",
              "    <tr>\n",
              "      <th>0</th>\n",
              "      <td>NEWS_00000</td>\n",
              "      <td>Spanish coach facing action in race row</td>\n",
              "      <td>MADRID (AFP) - Spanish national team coach Lui...</td>\n",
              "    </tr>\n",
              "    <tr>\n",
              "      <th>1</th>\n",
              "      <td>NEWS_00001</td>\n",
              "      <td>Bruce Lee statue for divided city</td>\n",
              "      <td>In Bosnia, where one man #39;s hero is often a...</td>\n",
              "    </tr>\n",
              "    <tr>\n",
              "      <th>2</th>\n",
              "      <td>NEWS_00002</td>\n",
              "      <td>Only Lovers Left Alive's Tilda Swinton Talks A...</td>\n",
              "      <td>Yasmine Hamdan performs 'Hal' which she also s...</td>\n",
              "    </tr>\n",
              "    <tr>\n",
              "      <th>3</th>\n",
              "      <td>NEWS_00003</td>\n",
              "      <td>Macromedia contributes to eBay Stores</td>\n",
              "      <td>Macromedia has announced a special version of ...</td>\n",
              "    </tr>\n",
              "    <tr>\n",
              "      <th>4</th>\n",
              "      <td>NEWS_00004</td>\n",
              "      <td>Qualcomm plans to phone it in on cellular repairs</td>\n",
              "      <td>Over-the-air fixes for cell phones comes to Qu...</td>\n",
              "    </tr>\n",
              "    <tr>\n",
              "      <th>...</th>\n",
              "      <td>...</td>\n",
              "      <td>...</td>\n",
              "      <td>...</td>\n",
              "    </tr>\n",
              "    <tr>\n",
              "      <th>59995</th>\n",
              "      <td>NEWS_59995</td>\n",
              "      <td>Dolphins Break Through, Rip Rams For First Win</td>\n",
              "      <td>But that #39;s OK. Because after a 31-14 rout ...</td>\n",
              "    </tr>\n",
              "    <tr>\n",
              "      <th>59996</th>\n",
              "      <td>NEWS_59996</td>\n",
              "      <td>After Steep Drop, Price of Oil Rises</td>\n",
              "      <td>The freefall in oil prices ended Monday on a s...</td>\n",
              "    </tr>\n",
              "    <tr>\n",
              "      <th>59997</th>\n",
              "      <td>NEWS_59997</td>\n",
              "      <td>Pro football: Culpepper puts on a show</td>\n",
              "      <td>To say Daunte Culpepper was a little frustrate...</td>\n",
              "    </tr>\n",
              "    <tr>\n",
              "      <th>59998</th>\n",
              "      <td>NEWS_59998</td>\n",
              "      <td>Albertsons on the Rebound</td>\n",
              "      <td>The No. 2 grocer reports double-digit gains in...</td>\n",
              "    </tr>\n",
              "    <tr>\n",
              "      <th>59999</th>\n",
              "      <td>NEWS_59999</td>\n",
              "      <td>Cassini Craft Spies Saturn Moon Dione (AP)</td>\n",
              "      <td>AP - The Cassini spacecraft's close flyby of S...</td>\n",
              "    </tr>\n",
              "  </tbody>\n",
              "</table>\n",
              "<p>60000 rows × 3 columns</p>\n",
              "</div>\n",
              "    <div class=\"colab-df-buttons\">\n",
              "\n",
              "  <div class=\"colab-df-container\">\n",
              "    <button class=\"colab-df-convert\" onclick=\"convertToInteractive('df-811a643c-be3c-4890-aa68-2f74849ab528')\"\n",
              "            title=\"Convert this dataframe to an interactive table.\"\n",
              "            style=\"display:none;\">\n",
              "\n",
              "  <svg xmlns=\"http://www.w3.org/2000/svg\" height=\"24px\" viewBox=\"0 -960 960 960\">\n",
              "    <path d=\"M120-120v-720h720v720H120Zm60-500h600v-160H180v160Zm220 220h160v-160H400v160Zm0 220h160v-160H400v160ZM180-400h160v-160H180v160Zm440 0h160v-160H620v160ZM180-180h160v-160H180v160Zm440 0h160v-160H620v160Z\"/>\n",
              "  </svg>\n",
              "    </button>\n",
              "\n",
              "  <style>\n",
              "    .colab-df-container {\n",
              "      display:flex;\n",
              "      gap: 12px;\n",
              "    }\n",
              "\n",
              "    .colab-df-convert {\n",
              "      background-color: #E8F0FE;\n",
              "      border: none;\n",
              "      border-radius: 50%;\n",
              "      cursor: pointer;\n",
              "      display: none;\n",
              "      fill: #1967D2;\n",
              "      height: 32px;\n",
              "      padding: 0 0 0 0;\n",
              "      width: 32px;\n",
              "    }\n",
              "\n",
              "    .colab-df-convert:hover {\n",
              "      background-color: #E2EBFA;\n",
              "      box-shadow: 0px 1px 2px rgba(60, 64, 67, 0.3), 0px 1px 3px 1px rgba(60, 64, 67, 0.15);\n",
              "      fill: #174EA6;\n",
              "    }\n",
              "\n",
              "    .colab-df-buttons div {\n",
              "      margin-bottom: 4px;\n",
              "    }\n",
              "\n",
              "    [theme=dark] .colab-df-convert {\n",
              "      background-color: #3B4455;\n",
              "      fill: #D2E3FC;\n",
              "    }\n",
              "\n",
              "    [theme=dark] .colab-df-convert:hover {\n",
              "      background-color: #434B5C;\n",
              "      box-shadow: 0px 1px 3px 1px rgba(0, 0, 0, 0.15);\n",
              "      filter: drop-shadow(0px 1px 2px rgba(0, 0, 0, 0.3));\n",
              "      fill: #FFFFFF;\n",
              "    }\n",
              "  </style>\n",
              "\n",
              "    <script>\n",
              "      const buttonEl =\n",
              "        document.querySelector('#df-811a643c-be3c-4890-aa68-2f74849ab528 button.colab-df-convert');\n",
              "      buttonEl.style.display =\n",
              "        google.colab.kernel.accessAllowed ? 'block' : 'none';\n",
              "\n",
              "      async function convertToInteractive(key) {\n",
              "        const element = document.querySelector('#df-811a643c-be3c-4890-aa68-2f74849ab528');\n",
              "        const dataTable =\n",
              "          await google.colab.kernel.invokeFunction('convertToInteractive',\n",
              "                                                    [key], {});\n",
              "        if (!dataTable) return;\n",
              "\n",
              "        const docLinkHtml = 'Like what you see? Visit the ' +\n",
              "          '<a target=\"_blank\" href=https://colab.research.google.com/notebooks/data_table.ipynb>data table notebook</a>'\n",
              "          + ' to learn more about interactive tables.';\n",
              "        element.innerHTML = '';\n",
              "        dataTable['output_type'] = 'display_data';\n",
              "        await google.colab.output.renderOutput(dataTable, element);\n",
              "        const docLink = document.createElement('div');\n",
              "        docLink.innerHTML = docLinkHtml;\n",
              "        element.appendChild(docLink);\n",
              "      }\n",
              "    </script>\n",
              "  </div>\n",
              "\n",
              "\n",
              "<div id=\"df-fa457e88-5a1f-4f8e-8a19-939c39cba6ff\">\n",
              "  <button class=\"colab-df-quickchart\" onclick=\"quickchart('df-fa457e88-5a1f-4f8e-8a19-939c39cba6ff')\"\n",
              "            title=\"Suggest charts.\"\n",
              "            style=\"display:none;\">\n",
              "\n",
              "<svg xmlns=\"http://www.w3.org/2000/svg\" height=\"24px\"viewBox=\"0 0 24 24\"\n",
              "     width=\"24px\">\n",
              "    <g>\n",
              "        <path d=\"M19 3H5c-1.1 0-2 .9-2 2v14c0 1.1.9 2 2 2h14c1.1 0 2-.9 2-2V5c0-1.1-.9-2-2-2zM9 17H7v-7h2v7zm4 0h-2V7h2v10zm4 0h-2v-4h2v4z\"/>\n",
              "    </g>\n",
              "</svg>\n",
              "  </button>\n",
              "\n",
              "<style>\n",
              "  .colab-df-quickchart {\n",
              "      --bg-color: #E8F0FE;\n",
              "      --fill-color: #1967D2;\n",
              "      --hover-bg-color: #E2EBFA;\n",
              "      --hover-fill-color: #174EA6;\n",
              "      --disabled-fill-color: #AAA;\n",
              "      --disabled-bg-color: #DDD;\n",
              "  }\n",
              "\n",
              "  [theme=dark] .colab-df-quickchart {\n",
              "      --bg-color: #3B4455;\n",
              "      --fill-color: #D2E3FC;\n",
              "      --hover-bg-color: #434B5C;\n",
              "      --hover-fill-color: #FFFFFF;\n",
              "      --disabled-bg-color: #3B4455;\n",
              "      --disabled-fill-color: #666;\n",
              "  }\n",
              "\n",
              "  .colab-df-quickchart {\n",
              "    background-color: var(--bg-color);\n",
              "    border: none;\n",
              "    border-radius: 50%;\n",
              "    cursor: pointer;\n",
              "    display: none;\n",
              "    fill: var(--fill-color);\n",
              "    height: 32px;\n",
              "    padding: 0;\n",
              "    width: 32px;\n",
              "  }\n",
              "\n",
              "  .colab-df-quickchart:hover {\n",
              "    background-color: var(--hover-bg-color);\n",
              "    box-shadow: 0 1px 2px rgba(60, 64, 67, 0.3), 0 1px 3px 1px rgba(60, 64, 67, 0.15);\n",
              "    fill: var(--button-hover-fill-color);\n",
              "  }\n",
              "\n",
              "  .colab-df-quickchart-complete:disabled,\n",
              "  .colab-df-quickchart-complete:disabled:hover {\n",
              "    background-color: var(--disabled-bg-color);\n",
              "    fill: var(--disabled-fill-color);\n",
              "    box-shadow: none;\n",
              "  }\n",
              "\n",
              "  .colab-df-spinner {\n",
              "    border: 2px solid var(--fill-color);\n",
              "    border-color: transparent;\n",
              "    border-bottom-color: var(--fill-color);\n",
              "    animation:\n",
              "      spin 1s steps(1) infinite;\n",
              "  }\n",
              "\n",
              "  @keyframes spin {\n",
              "    0% {\n",
              "      border-color: transparent;\n",
              "      border-bottom-color: var(--fill-color);\n",
              "      border-left-color: var(--fill-color);\n",
              "    }\n",
              "    20% {\n",
              "      border-color: transparent;\n",
              "      border-left-color: var(--fill-color);\n",
              "      border-top-color: var(--fill-color);\n",
              "    }\n",
              "    30% {\n",
              "      border-color: transparent;\n",
              "      border-left-color: var(--fill-color);\n",
              "      border-top-color: var(--fill-color);\n",
              "      border-right-color: var(--fill-color);\n",
              "    }\n",
              "    40% {\n",
              "      border-color: transparent;\n",
              "      border-right-color: var(--fill-color);\n",
              "      border-top-color: var(--fill-color);\n",
              "    }\n",
              "    60% {\n",
              "      border-color: transparent;\n",
              "      border-right-color: var(--fill-color);\n",
              "    }\n",
              "    80% {\n",
              "      border-color: transparent;\n",
              "      border-right-color: var(--fill-color);\n",
              "      border-bottom-color: var(--fill-color);\n",
              "    }\n",
              "    90% {\n",
              "      border-color: transparent;\n",
              "      border-bottom-color: var(--fill-color);\n",
              "    }\n",
              "  }\n",
              "</style>\n",
              "\n",
              "  <script>\n",
              "    async function quickchart(key) {\n",
              "      const quickchartButtonEl =\n",
              "        document.querySelector('#' + key + ' button');\n",
              "      quickchartButtonEl.disabled = true;  // To prevent multiple clicks.\n",
              "      quickchartButtonEl.classList.add('colab-df-spinner');\n",
              "      try {\n",
              "        const charts = await google.colab.kernel.invokeFunction(\n",
              "            'suggestCharts', [key], {});\n",
              "      } catch (error) {\n",
              "        console.error('Error during call to suggestCharts:', error);\n",
              "      }\n",
              "      quickchartButtonEl.classList.remove('colab-df-spinner');\n",
              "      quickchartButtonEl.classList.add('colab-df-quickchart-complete');\n",
              "    }\n",
              "    (() => {\n",
              "      let quickchartButtonEl =\n",
              "        document.querySelector('#df-fa457e88-5a1f-4f8e-8a19-939c39cba6ff button');\n",
              "      quickchartButtonEl.style.display =\n",
              "        google.colab.kernel.accessAllowed ? 'block' : 'none';\n",
              "    })();\n",
              "  </script>\n",
              "</div>\n",
              "    </div>\n",
              "  </div>\n"
            ]
          },
          "metadata": {},
          "execution_count": 3
        }
      ]
    },
    {
      "cell_type": "code",
      "source": [
        "df['text'] = df['title'] + ' ' + df['contents']"
      ],
      "metadata": {
        "id": "2CBfpEP-bgL_"
      },
      "execution_count": 4,
      "outputs": []
    },
    {
      "cell_type": "code",
      "source": [
        "df.head()"
      ],
      "metadata": {
        "colab": {
          "base_uri": "https://localhost:8080/",
          "height": 206
        },
        "id": "Ir-U-eJlbsM8",
        "outputId": "a57ac637-a74d-41bd-bbf9-f3620c8956c1"
      },
      "execution_count": 5,
      "outputs": [
        {
          "output_type": "execute_result",
          "data": {
            "text/plain": [
              "           id                                              title  \\\n",
              "0  NEWS_00000            Spanish coach facing action in race row   \n",
              "1  NEWS_00001                  Bruce Lee statue for divided city   \n",
              "2  NEWS_00002  Only Lovers Left Alive's Tilda Swinton Talks A...   \n",
              "3  NEWS_00003              Macromedia contributes to eBay Stores   \n",
              "4  NEWS_00004  Qualcomm plans to phone it in on cellular repairs   \n",
              "\n",
              "                                            contents  \\\n",
              "0  MADRID (AFP) - Spanish national team coach Lui...   \n",
              "1  In Bosnia, where one man #39;s hero is often a...   \n",
              "2  Yasmine Hamdan performs 'Hal' which she also s...   \n",
              "3  Macromedia has announced a special version of ...   \n",
              "4  Over-the-air fixes for cell phones comes to Qu...   \n",
              "\n",
              "                                                text  \n",
              "0  Spanish coach facing action in race row MADRID...  \n",
              "1  Bruce Lee statue for divided city In Bosnia, w...  \n",
              "2  Only Lovers Left Alive's Tilda Swinton Talks A...  \n",
              "3  Macromedia contributes to eBay Stores Macromed...  \n",
              "4  Qualcomm plans to phone it in on cellular repa...  "
            ],
            "text/html": [
              "\n",
              "  <div id=\"df-bc6e0920-5707-4c66-8a04-f20a3a103bb6\" class=\"colab-df-container\">\n",
              "    <div>\n",
              "<style scoped>\n",
              "    .dataframe tbody tr th:only-of-type {\n",
              "        vertical-align: middle;\n",
              "    }\n",
              "\n",
              "    .dataframe tbody tr th {\n",
              "        vertical-align: top;\n",
              "    }\n",
              "\n",
              "    .dataframe thead th {\n",
              "        text-align: right;\n",
              "    }\n",
              "</style>\n",
              "<table border=\"1\" class=\"dataframe\">\n",
              "  <thead>\n",
              "    <tr style=\"text-align: right;\">\n",
              "      <th></th>\n",
              "      <th>id</th>\n",
              "      <th>title</th>\n",
              "      <th>contents</th>\n",
              "      <th>text</th>\n",
              "    </tr>\n",
              "  </thead>\n",
              "  <tbody>\n",
              "    <tr>\n",
              "      <th>0</th>\n",
              "      <td>NEWS_00000</td>\n",
              "      <td>Spanish coach facing action in race row</td>\n",
              "      <td>MADRID (AFP) - Spanish national team coach Lui...</td>\n",
              "      <td>Spanish coach facing action in race row MADRID...</td>\n",
              "    </tr>\n",
              "    <tr>\n",
              "      <th>1</th>\n",
              "      <td>NEWS_00001</td>\n",
              "      <td>Bruce Lee statue for divided city</td>\n",
              "      <td>In Bosnia, where one man #39;s hero is often a...</td>\n",
              "      <td>Bruce Lee statue for divided city In Bosnia, w...</td>\n",
              "    </tr>\n",
              "    <tr>\n",
              "      <th>2</th>\n",
              "      <td>NEWS_00002</td>\n",
              "      <td>Only Lovers Left Alive's Tilda Swinton Talks A...</td>\n",
              "      <td>Yasmine Hamdan performs 'Hal' which she also s...</td>\n",
              "      <td>Only Lovers Left Alive's Tilda Swinton Talks A...</td>\n",
              "    </tr>\n",
              "    <tr>\n",
              "      <th>3</th>\n",
              "      <td>NEWS_00003</td>\n",
              "      <td>Macromedia contributes to eBay Stores</td>\n",
              "      <td>Macromedia has announced a special version of ...</td>\n",
              "      <td>Macromedia contributes to eBay Stores Macromed...</td>\n",
              "    </tr>\n",
              "    <tr>\n",
              "      <th>4</th>\n",
              "      <td>NEWS_00004</td>\n",
              "      <td>Qualcomm plans to phone it in on cellular repairs</td>\n",
              "      <td>Over-the-air fixes for cell phones comes to Qu...</td>\n",
              "      <td>Qualcomm plans to phone it in on cellular repa...</td>\n",
              "    </tr>\n",
              "  </tbody>\n",
              "</table>\n",
              "</div>\n",
              "    <div class=\"colab-df-buttons\">\n",
              "\n",
              "  <div class=\"colab-df-container\">\n",
              "    <button class=\"colab-df-convert\" onclick=\"convertToInteractive('df-bc6e0920-5707-4c66-8a04-f20a3a103bb6')\"\n",
              "            title=\"Convert this dataframe to an interactive table.\"\n",
              "            style=\"display:none;\">\n",
              "\n",
              "  <svg xmlns=\"http://www.w3.org/2000/svg\" height=\"24px\" viewBox=\"0 -960 960 960\">\n",
              "    <path d=\"M120-120v-720h720v720H120Zm60-500h600v-160H180v160Zm220 220h160v-160H400v160Zm0 220h160v-160H400v160ZM180-400h160v-160H180v160Zm440 0h160v-160H620v160ZM180-180h160v-160H180v160Zm440 0h160v-160H620v160Z\"/>\n",
              "  </svg>\n",
              "    </button>\n",
              "\n",
              "  <style>\n",
              "    .colab-df-container {\n",
              "      display:flex;\n",
              "      gap: 12px;\n",
              "    }\n",
              "\n",
              "    .colab-df-convert {\n",
              "      background-color: #E8F0FE;\n",
              "      border: none;\n",
              "      border-radius: 50%;\n",
              "      cursor: pointer;\n",
              "      display: none;\n",
              "      fill: #1967D2;\n",
              "      height: 32px;\n",
              "      padding: 0 0 0 0;\n",
              "      width: 32px;\n",
              "    }\n",
              "\n",
              "    .colab-df-convert:hover {\n",
              "      background-color: #E2EBFA;\n",
              "      box-shadow: 0px 1px 2px rgba(60, 64, 67, 0.3), 0px 1px 3px 1px rgba(60, 64, 67, 0.15);\n",
              "      fill: #174EA6;\n",
              "    }\n",
              "\n",
              "    .colab-df-buttons div {\n",
              "      margin-bottom: 4px;\n",
              "    }\n",
              "\n",
              "    [theme=dark] .colab-df-convert {\n",
              "      background-color: #3B4455;\n",
              "      fill: #D2E3FC;\n",
              "    }\n",
              "\n",
              "    [theme=dark] .colab-df-convert:hover {\n",
              "      background-color: #434B5C;\n",
              "      box-shadow: 0px 1px 3px 1px rgba(0, 0, 0, 0.15);\n",
              "      filter: drop-shadow(0px 1px 2px rgba(0, 0, 0, 0.3));\n",
              "      fill: #FFFFFF;\n",
              "    }\n",
              "  </style>\n",
              "\n",
              "    <script>\n",
              "      const buttonEl =\n",
              "        document.querySelector('#df-bc6e0920-5707-4c66-8a04-f20a3a103bb6 button.colab-df-convert');\n",
              "      buttonEl.style.display =\n",
              "        google.colab.kernel.accessAllowed ? 'block' : 'none';\n",
              "\n",
              "      async function convertToInteractive(key) {\n",
              "        const element = document.querySelector('#df-bc6e0920-5707-4c66-8a04-f20a3a103bb6');\n",
              "        const dataTable =\n",
              "          await google.colab.kernel.invokeFunction('convertToInteractive',\n",
              "                                                    [key], {});\n",
              "        if (!dataTable) return;\n",
              "\n",
              "        const docLinkHtml = 'Like what you see? Visit the ' +\n",
              "          '<a target=\"_blank\" href=https://colab.research.google.com/notebooks/data_table.ipynb>data table notebook</a>'\n",
              "          + ' to learn more about interactive tables.';\n",
              "        element.innerHTML = '';\n",
              "        dataTable['output_type'] = 'display_data';\n",
              "        await google.colab.output.renderOutput(dataTable, element);\n",
              "        const docLink = document.createElement('div');\n",
              "        docLink.innerHTML = docLinkHtml;\n",
              "        element.appendChild(docLink);\n",
              "      }\n",
              "    </script>\n",
              "  </div>\n",
              "\n",
              "\n",
              "<div id=\"df-4174c36f-1cbc-44ba-a1d7-64ed9174738d\">\n",
              "  <button class=\"colab-df-quickchart\" onclick=\"quickchart('df-4174c36f-1cbc-44ba-a1d7-64ed9174738d')\"\n",
              "            title=\"Suggest charts.\"\n",
              "            style=\"display:none;\">\n",
              "\n",
              "<svg xmlns=\"http://www.w3.org/2000/svg\" height=\"24px\"viewBox=\"0 0 24 24\"\n",
              "     width=\"24px\">\n",
              "    <g>\n",
              "        <path d=\"M19 3H5c-1.1 0-2 .9-2 2v14c0 1.1.9 2 2 2h14c1.1 0 2-.9 2-2V5c0-1.1-.9-2-2-2zM9 17H7v-7h2v7zm4 0h-2V7h2v10zm4 0h-2v-4h2v4z\"/>\n",
              "    </g>\n",
              "</svg>\n",
              "  </button>\n",
              "\n",
              "<style>\n",
              "  .colab-df-quickchart {\n",
              "      --bg-color: #E8F0FE;\n",
              "      --fill-color: #1967D2;\n",
              "      --hover-bg-color: #E2EBFA;\n",
              "      --hover-fill-color: #174EA6;\n",
              "      --disabled-fill-color: #AAA;\n",
              "      --disabled-bg-color: #DDD;\n",
              "  }\n",
              "\n",
              "  [theme=dark] .colab-df-quickchart {\n",
              "      --bg-color: #3B4455;\n",
              "      --fill-color: #D2E3FC;\n",
              "      --hover-bg-color: #434B5C;\n",
              "      --hover-fill-color: #FFFFFF;\n",
              "      --disabled-bg-color: #3B4455;\n",
              "      --disabled-fill-color: #666;\n",
              "  }\n",
              "\n",
              "  .colab-df-quickchart {\n",
              "    background-color: var(--bg-color);\n",
              "    border: none;\n",
              "    border-radius: 50%;\n",
              "    cursor: pointer;\n",
              "    display: none;\n",
              "    fill: var(--fill-color);\n",
              "    height: 32px;\n",
              "    padding: 0;\n",
              "    width: 32px;\n",
              "  }\n",
              "\n",
              "  .colab-df-quickchart:hover {\n",
              "    background-color: var(--hover-bg-color);\n",
              "    box-shadow: 0 1px 2px rgba(60, 64, 67, 0.3), 0 1px 3px 1px rgba(60, 64, 67, 0.15);\n",
              "    fill: var(--button-hover-fill-color);\n",
              "  }\n",
              "\n",
              "  .colab-df-quickchart-complete:disabled,\n",
              "  .colab-df-quickchart-complete:disabled:hover {\n",
              "    background-color: var(--disabled-bg-color);\n",
              "    fill: var(--disabled-fill-color);\n",
              "    box-shadow: none;\n",
              "  }\n",
              "\n",
              "  .colab-df-spinner {\n",
              "    border: 2px solid var(--fill-color);\n",
              "    border-color: transparent;\n",
              "    border-bottom-color: var(--fill-color);\n",
              "    animation:\n",
              "      spin 1s steps(1) infinite;\n",
              "  }\n",
              "\n",
              "  @keyframes spin {\n",
              "    0% {\n",
              "      border-color: transparent;\n",
              "      border-bottom-color: var(--fill-color);\n",
              "      border-left-color: var(--fill-color);\n",
              "    }\n",
              "    20% {\n",
              "      border-color: transparent;\n",
              "      border-left-color: var(--fill-color);\n",
              "      border-top-color: var(--fill-color);\n",
              "    }\n",
              "    30% {\n",
              "      border-color: transparent;\n",
              "      border-left-color: var(--fill-color);\n",
              "      border-top-color: var(--fill-color);\n",
              "      border-right-color: var(--fill-color);\n",
              "    }\n",
              "    40% {\n",
              "      border-color: transparent;\n",
              "      border-right-color: var(--fill-color);\n",
              "      border-top-color: var(--fill-color);\n",
              "    }\n",
              "    60% {\n",
              "      border-color: transparent;\n",
              "      border-right-color: var(--fill-color);\n",
              "    }\n",
              "    80% {\n",
              "      border-color: transparent;\n",
              "      border-right-color: var(--fill-color);\n",
              "      border-bottom-color: var(--fill-color);\n",
              "    }\n",
              "    90% {\n",
              "      border-color: transparent;\n",
              "      border-bottom-color: var(--fill-color);\n",
              "    }\n",
              "  }\n",
              "</style>\n",
              "\n",
              "  <script>\n",
              "    async function quickchart(key) {\n",
              "      const quickchartButtonEl =\n",
              "        document.querySelector('#' + key + ' button');\n",
              "      quickchartButtonEl.disabled = true;  // To prevent multiple clicks.\n",
              "      quickchartButtonEl.classList.add('colab-df-spinner');\n",
              "      try {\n",
              "        const charts = await google.colab.kernel.invokeFunction(\n",
              "            'suggestCharts', [key], {});\n",
              "      } catch (error) {\n",
              "        console.error('Error during call to suggestCharts:', error);\n",
              "      }\n",
              "      quickchartButtonEl.classList.remove('colab-df-spinner');\n",
              "      quickchartButtonEl.classList.add('colab-df-quickchart-complete');\n",
              "    }\n",
              "    (() => {\n",
              "      let quickchartButtonEl =\n",
              "        document.querySelector('#df-4174c36f-1cbc-44ba-a1d7-64ed9174738d button');\n",
              "      quickchartButtonEl.style.display =\n",
              "        google.colab.kernel.accessAllowed ? 'block' : 'none';\n",
              "    })();\n",
              "  </script>\n",
              "</div>\n",
              "    </div>\n",
              "  </div>\n"
            ]
          },
          "metadata": {},
          "execution_count": 5
        }
      ]
    },
    {
      "cell_type": "code",
      "source": [
        "nltk.download('stopwords')\n",
        "nltk.download('wordnet')"
      ],
      "metadata": {
        "colab": {
          "base_uri": "https://localhost:8080/"
        },
        "id": "N8EF7zohdrQD",
        "outputId": "39e38954-df01-40d2-ef7d-66a54b319775"
      },
      "execution_count": 6,
      "outputs": [
        {
          "output_type": "stream",
          "name": "stderr",
          "text": [
            "[nltk_data] Downloading package stopwords to /root/nltk_data...\n",
            "[nltk_data]   Unzipping corpora/stopwords.zip.\n",
            "[nltk_data] Downloading package wordnet to /root/nltk_data...\n"
          ]
        },
        {
          "output_type": "execute_result",
          "data": {
            "text/plain": [
              "True"
            ]
          },
          "metadata": {},
          "execution_count": 6
        }
      ]
    },
    {
      "cell_type": "code",
      "source": [
        "# 데이터 전처리 함수 정의\n",
        "def preprocessing(text):\n",
        "    # URL 제거\n",
        "    text = re.sub(r'https?://\\S+|www\\.\\S+', ' ', text, flags=re.MULTILINE)\n",
        "\n",
        "    # 이모지 제거\n",
        "    text = text.encode('ascii', 'ignore').decode('ascii')\n",
        "\n",
        "    # 'short_description' 제거\n",
        "    text = text.replace('short_description', '')\n",
        "\n",
        "    # 소문자 변환, 특수문자 제거\n",
        "    text = text.lower()\n",
        "    text = re.sub(r'[^\\w\\s]', '', text)\n",
        "\n",
        "    # 한 글자 제거\n",
        "    text = ' '.join([word for word in text.split() if len(word) > 1])\n",
        "\n",
        "    # 숫자 제거\n",
        "    text = re.sub(r'\\d+', '', text)\n",
        "\n",
        "    # 표제어 추출\n",
        "    lemmatizer = WordNetLemmatizer()\n",
        "    words = text.split()\n",
        "    text = ' '.join([lemmatizer.lemmatize(word) for word in words])\n",
        "\n",
        "    # 불용어 제거\n",
        "    stop_words = set(stopwords.words('english'))\n",
        "    words = text.split()\n",
        "    text = ' '.join([word for word in words if word not in stop_words])\n",
        "\n",
        "    return text"
      ],
      "metadata": {
        "id": "KAi1XNJtdTwG"
      },
      "execution_count": 8,
      "outputs": []
    },
    {
      "cell_type": "code",
      "source": [
        "sample_text = 'Blake Leeper may be training for the Rio 2016 Olympic Games but he found time to stop by the Samsung Smart Lounge to talk about his goals and how technology can help people like him compete at a high level.'\n",
        "result = preprocessing(sample_text)\n",
        "result"
      ],
      "metadata": {
        "colab": {
          "base_uri": "https://localhost:8080/",
          "height": 35
        },
        "id": "ik0wW827fkEg",
        "outputId": "3205719e-5eb0-483b-acfc-a190bc08a3b4"
      },
      "execution_count": 9,
      "outputs": [
        {
          "output_type": "execute_result",
          "data": {
            "text/plain": [
              "'blake leeper may training rio olympic game found time stop samsung smart lounge talk goal technology help people like compete high level'"
            ],
            "application/vnd.google.colaboratory.intrinsic+json": {
              "type": "string"
            }
          },
          "metadata": {},
          "execution_count": 9
        }
      ]
    },
    {
      "cell_type": "code",
      "source": [
        "df['preprocessed_text'] = df['text'].apply(preprocessing)"
      ],
      "metadata": {
        "id": "7a--qbAYjZSN"
      },
      "execution_count": 10,
      "outputs": []
    },
    {
      "cell_type": "code",
      "source": [
        "df['preprocessed_text'].head()"
      ],
      "metadata": {
        "colab": {
          "base_uri": "https://localhost:8080/"
        },
        "id": "Q7v7DvHCjv1_",
        "outputId": "fa0e83c6-e68f-403c-db98-ee576b4017a7"
      },
      "execution_count": 11,
      "outputs": [
        {
          "output_type": "execute_result",
          "data": {
            "text/plain": [
              "0    spanish coach facing action race row madrid af...\n",
              "1    bruce lee statue divided city bosnia one man h...\n",
              "2    lover left alives tilda swinton talk almost qu...\n",
              "3    macromedia contributes ebay store macromedia h...\n",
              "4    qualcomm plan phone cellular repair overtheair...\n",
              "Name: preprocessed_text, dtype: object"
            ]
          },
          "metadata": {},
          "execution_count": 11
        }
      ]
    },
    {
      "cell_type": "code",
      "source": [
        "# SpaCy 영어 모델 로드\n",
        "nlp = spacy.load(\"en_core_web_sm\")\n",
        "\n",
        "# to list\n",
        "documents = df['preprocessed_text'].tolist()\n",
        "\n",
        "def spacy_tokenizer(text):\n",
        "    tokens = nlp(text)\n",
        "    return [token.text for token in tokens if not token.is_space]\n",
        "\n",
        "tqdm_documents = tqdm(documents, desc=\"Tokenizing..\")\n",
        "documents = [spacy_tokenizer(text) for text in tqdm_documents]"
      ],
      "metadata": {
        "colab": {
          "base_uri": "https://localhost:8080/"
        },
        "id": "rpe7Gr4lkiaU",
        "outputId": "5fd76bd2-2604-4401-d801-994367508bb9"
      },
      "execution_count": 12,
      "outputs": [
        {
          "output_type": "stream",
          "name": "stderr",
          "text": [
            "Tokenizing..: 100%|██████████| 60000/60000 [10:01<00:00, 99.75it/s] \n"
          ]
        }
      ]
    },
    {
      "cell_type": "code",
      "source": [
        "SEED = 1028\n",
        "\n",
        "# 랜덤 시드 설정\n",
        "np.random.seed(SEED)"
      ],
      "metadata": {
        "id": "kr94qLKSnFPZ"
      },
      "execution_count": 13,
      "outputs": []
    },
    {
      "cell_type": "code",
      "source": [
        "# FastText for vectorization\n",
        "model = FastText(sentences=documents, vector_size=100, window=5, min_count=3, sg=1, epochs=10)\n",
        "\n",
        "# TF-IDF 벡터화\n",
        "tfidf_vectorizer = TfidfVectorizer(max_features=1000)\n",
        "tfidf_matrix = tfidf_vectorizer.fit_transform([\" \".join(tokens) for tokens in documents])\n",
        "\n",
        "# FastText 모델로 텍스트 벡터 추출\n",
        "text_vectors = [model.wv[word] if word in model.wv else [0] * 100 for word in tfidf_vectorizer.get_feature_names_out()]\n",
        "\n",
        "# TF-IDF 가중치를 곱하여 최종 벡터 생성\n",
        "final_vectors = tfidf_matrix.dot(text_vectors)\n",
        "\n",
        "# 추출한 feature를 데이터프레임에 저장\n",
        "df_embeddings = pd.DataFrame(final_vectors)"
      ],
      "metadata": {
        "id": "RP3P1ekhrSRp"
      },
      "execution_count": 15,
      "outputs": []
    },
    {
      "cell_type": "code",
      "source": [
        "\"\"\"\n",
        "def train_fasttext_model(df, text, vector_size=100, window=5, min_count=3, sg=1, epochs=10):\n",
        "    # 텍스트 데이터 추출\n",
        "    sentences = df[text].apply(str.split).tolist()\n",
        "\n",
        "    # FastText 모델 학습\n",
        "    model = FastText(sentences=sentences, vector_size=vector_size, window=window, min_count=min_count, sg=sg, epochs=epochs)\n",
        "\n",
        "    # 학습된 모델 저장\n",
        "    model.save(\"fasttext_model.model\")\n",
        "\n",
        "    return model\n",
        "\n",
        "# 학습 데이터로 FastText 모델 학습\n",
        "model = train_fasttext_model(df, text='preprocessed_text')\n",
        "\"\"\""
      ],
      "metadata": {
        "id": "rHtIpMN5bFAz"
      },
      "execution_count": null,
      "outputs": []
    },
    {
      "cell_type": "code",
      "source": [
        "# K-Means 클러스터링\n",
        "clustering_model = KMeans(n_clusters=6, random_state=SEED)\n",
        "df['kmeans_cluster'] = clustering_model.fit_predict(df_embeddings)"
      ],
      "metadata": {
        "colab": {
          "base_uri": "https://localhost:8080/"
        },
        "id": "rxA2LAm8cpD7",
        "outputId": "f1ccd713-f0a5-42fa-f4b5-6b519e7fcd24"
      },
      "execution_count": 17,
      "outputs": [
        {
          "output_type": "stream",
          "name": "stderr",
          "text": [
            "/usr/local/lib/python3.10/dist-packages/sklearn/cluster/_kmeans.py:870: FutureWarning: The default value of `n_init` will change from 10 to 'auto' in 1.4. Set the value of `n_init` explicitly to suppress the warning\n",
            "  warnings.warn(\n"
          ]
        }
      ]
    },
    {
      "cell_type": "code",
      "source": [
        "num_clusters = 6\n",
        "cluster_labels = df['kmeans_cluster']\n",
        "\n",
        "# 데이터를 2차원으로 축소 (PCA 사용)\n",
        "pca = PCA(n_components=2)\n",
        "reduced_data = pca.fit_transform(df_embeddings)\n",
        "\n",
        "# 각 클러스터 색상 지정\n",
        "colors = ['b', 'g', 'r', 'c', 'm', 'y']\n",
        "\n",
        "# 클러스터 시각화\n",
        "for cluster_num in range(num_clusters):\n",
        "    cluster_data = reduced_data[cluster_labels == cluster_num]\n",
        "    plt.scatter(cluster_data[:, 0], cluster_data[:, 1], c=colors[cluster_num], label=f'Cluster {cluster_num}')\n",
        "\n",
        "# 클러스터 중심 시각화\n",
        "cluster_centers = pca.transform(clustering_model.cluster_centers_)\n",
        "# X좌표, y좌표\n",
        "plt.scatter(cluster_centers[:, 0], cluster_centers[:, 1], c='k', marker='x', s=200, label='Centroids')\n",
        "\n",
        "plt.title('K-Means Clustering Visualization')\n",
        "plt.legend()\n",
        "plt.show()"
      ],
      "metadata": {
        "colab": {
          "base_uri": "https://localhost:8080/",
          "height": 452
        },
        "id": "HITPSbnAxQnZ",
        "outputId": "580959fe-ccbe-4b54-dc0b-65725cf8919a"
      },
      "execution_count": 19,
      "outputs": [
        {
          "output_type": "display_data",
          "data": {
            "text/plain": [
              "<Figure size 640x480 with 1 Axes>"
            ],
            "image/png": "[encoded data removed]"
          },
          "metadata": {}
        }
      ]
    },
    {
      "cell_type": "code",
      "source": [
        "# 각 클러스터의 데이터 개수\n",
        "cluster_counts = df['kmeans_cluster'].value_counts()\n",
        "print(cluster_counts)"
      ],
      "metadata": {
        "colab": {
          "base_uri": "https://localhost:8080/"
        },
        "id": "AOHASYFoubte",
        "outputId": "63408808-dabf-4aa2-e1b8-26f85f13e61d"
      },
      "execution_count": 20,
      "outputs": [
        {
          "output_type": "stream",
          "name": "stdout",
          "text": [
            "1    13295\n",
            "4    13211\n",
            "2    11337\n",
            "0     9357\n",
            "3     7742\n",
            "5     5058\n",
            "Name: kmeans_cluster, dtype: int64\n"
          ]
        }
      ]
    },
    {
      "cell_type": "markdown",
      "source": [
        "0: Business  \n",
        "1: Entertainment  \n",
        "2: Politics  \n",
        "3: Sports  \n",
        "4: Tech  \n",
        "5: World"
      ],
      "metadata": {
        "id": "AZbnO4gdvVyT"
      }
    },
    {
      "cell_type": "markdown",
      "source": [
        "## 0 -> 2: Politics"
      ],
      "metadata": {
        "id": "0549jBUawGHV"
      }
    },
    {
      "cell_type": "code",
      "source": [
        "df[df['kmeans_cluster'] == 0]['text'].head(20)"
      ],
      "metadata": {
        "colab": {
          "base_uri": "https://localhost:8080/"
        },
        "id": "R0ZH_3QQsOSs",
        "outputId": "8df3cbf7-791f-4073-eaaf-cc435a49e068"
      },
      "execution_count": 23,
      "outputs": [
        {
          "output_type": "execute_result",
          "data": {
            "text/plain": [
              "8     Obama Marks Anniversary Of 9/11 Attacks With M...\n",
              "9     Republican Congressman Says Trump Should Apolo...\n",
              "11    Kerry rolls out tax-cut plan for middle class ...\n",
              "12    Read Live Updates From The South Carolina Demo...\n",
              "14    Obama Administration Helps Wall Street Crimina...\n",
              "15    It's Not As Easy As You Think To Spot A Gerrym...\n",
              "17    Parents Of School Shooting Victims Decry 'Moro...\n",
              "18    A Fair Way to Choose Candidates for Republican...\n",
              "19    Congress Spikes Handout For Private Equity aut...\n",
              "32    Sunday Show Hosts Hit Back On Trump Administra...\n",
              "35    Is E-Voting Secure? (CBS) Nearly one third of ...\n",
              "36    Agencies Postpone Issuing New Rules Until Afte...\n",
              "45    The Trouble with Broadcasting in a Social Worl...\n",
              "47    Bush author says White House applying pressure...\n",
              "53    These Are The People Putting Up Money To Stop ...\n",
              "54    Trump Says U.S. 'Not Going To Look Foolish As ...\n",
              "55    Florida Shooting Survivors Confront Lawmakers ...\n",
              "58    Democrats Plan Big Anti-Corruption Theme For M...\n",
              "65    Roberto Unger Obama's Former Harvard Law Schoo...\n",
              "66    Hope of medical progress carries vote A commit...\n",
              "Name: text, dtype: object"
            ]
          },
          "metadata": {},
          "execution_count": 23
        }
      ]
    },
    {
      "cell_type": "markdown",
      "source": [
        "## 1 -> 4: Tech"
      ],
      "metadata": {
        "id": "COJ-d6tuxjPf"
      }
    },
    {
      "cell_type": "code",
      "source": [
        "df[df['kmeans_cluster'] == 1]['text'].head(20)"
      ],
      "metadata": {
        "colab": {
          "base_uri": "https://localhost:8080/"
        },
        "id": "o0mI-PUWu-2t",
        "outputId": "ef33e683-3468-4c45-e94f-51f20e2e9340"
      },
      "execution_count": 25,
      "outputs": [
        {
          "output_type": "execute_result",
          "data": {
            "text/plain": [
              "3      Macromedia contributes to eBay Stores Macromed...\n",
              "7      Bump Stock Maker Resumes Sales One Month After...\n",
              "23     FTC Files First Lawsuit Against Spyware Concer...\n",
              "31     Sony PSP Draws Crowds and Lines on First Day (...\n",
              "37     Deep Impact Space Probe Aims to Slam Into Come...\n",
              "41     Photos from MacExpo 2004 With over 100 exhibit...\n",
              "49     Bribery Considered, Halliburton Notes Suggest ...\n",
              "50     UN Predicts Boom In Robot Labor The use of rob...\n",
              "73     Delphi, XM Unveil Handheld Satellite Radio Rec...\n",
              "74     2 Russian Officials Charged In Massive Yahoo H...\n",
              "79     Suit by Cities Says Microsoft Overcharged icro...\n",
              "83     IT Product Guide goes beta InfoWorld and Open ...\n",
              "93     Oracle wins PeopleSoft takeover case The long-...\n",
              "100    GM, DaimlerChrysler to develop hybrid engines ...\n",
              "103    Nortel attempts to calm fears of possible stoc...\n",
              "113    Coal Companies Paid Lobbyists Millions Before ...\n",
              "119    Microsoft, Cisco: Seeing Eye-to-Eye on Network...\n",
              "120    BA cancels 1,000 Heathrow flights British Airw...\n",
              "123    GPS Technology Drives Global Treasure Hunt The...\n",
              "125    What Apple's U2 Stunt Really Says About the Fu...\n",
              "Name: text, dtype: object"
            ]
          },
          "metadata": {},
          "execution_count": 25
        }
      ]
    },
    {
      "cell_type": "markdown",
      "source": [
        "## 2 -> 3: Sports"
      ],
      "metadata": {
        "id": "cj-YafeWytu-"
      }
    },
    {
      "cell_type": "code",
      "source": [
        "df[df['kmeans_cluster'] == 2]['text'].head(30)"
      ],
      "metadata": {
        "colab": {
          "base_uri": "https://localhost:8080/"
        },
        "id": "_rRxWa7CwUSB",
        "outputId": "3c7ab861-b365-43ca-f070-c91e1971a397"
      },
      "execution_count": 26,
      "outputs": [
        {
          "output_type": "execute_result",
          "data": {
            "text/plain": [
              "0      Spanish coach facing action in race row MADRID...\n",
              "2      Only Lovers Left Alive's Tilda Swinton Talks A...\n",
              "13     GAME DAY PREVIEW Game time: 6:00 PM CHARLOTTE,...\n",
              "16     Fischer's Fiancee: Marriage Plans Genuine (AP)...\n",
              "21     Blake Leeper Wants to Be the First American Pa...\n",
              "22     College Basketball: Georgia Tech, UConn Win AT...\n",
              "26     Doping case was flawed, report finds MONTREAL ...\n",
              "30     Montgomerie Beats Woods in S. Korean Skins (AP...\n",
              "38     Longhorns Rip Cowboys Cedric Benson scores fiv...\n",
              "39     Ricky Williams ordered to repay Dolphins Forme...\n",
              "40     Out for V-I-C-T-O-R-Y, but Missing Tiles Missi...\n",
              "42     Thomas out of Six Nations Wales captain Gareth...\n",
              "43     Tavarez Breaks Hand After Leaving Game 4 (AP) ...\n",
              "44     Golf: Cink in command in winning NEC Invitatio...\n",
              "46     Official: Cuper Signs With Mallorca Hector Cup...\n",
              "48     Stove burns hot in Seattle The Mariners, who a...\n",
              "88     Expos Skipper Robinson OKs One-Year Deal (AP) ...\n",
              "94     Jordan: Ford decision was knife through the he...\n",
              "96     Olympics Wrap: China Grabs 1st Men's Gold in T...\n",
              "109    Storm may have been a tornado VERMONTVILLE -- ...\n",
              "112    Defrocked Irish priest gets one-year suspended...\n",
              "116    We #39;ll never let Gerrard leave FORGET any t...\n",
              "122    MLB Playoffs: Yankees Take 2-0 Lead in Series ...\n",
              "127    Proteas thwart India spin attack, are at 459 f...\n",
              "129    Sheffield United target keen to stay at Anfiel...\n",
              "134    Schumacher wins Japanese Grand Prix: Sports In...\n",
              "139    Different routes, same result as teams gird fo...\n",
              "154    === Lewis grabs two-shot lead with scorching 6...\n",
              "164    Montreal Expos to Become the Nationals With Mo...\n",
              "165    F1: Move put on hold Jenson Button is still pl...\n",
              "Name: text, dtype: object"
            ]
          },
          "metadata": {},
          "execution_count": 26
        }
      ]
    },
    {
      "cell_type": "markdown",
      "source": [
        "## 3 -> 5: World"
      ],
      "metadata": {
        "id": "Wzg_uH3szMtc"
      }
    },
    {
      "cell_type": "code",
      "source": [
        "df[df['kmeans_cluster'] == 3]['text'].head(20)"
      ],
      "metadata": {
        "colab": {
          "base_uri": "https://localhost:8080/"
        },
        "id": "SdJX6QL6xw2W",
        "outputId": "d59af814-26b7-4910-d9da-0109c7ea0f0c"
      },
      "execution_count": 27,
      "outputs": [
        {
          "output_type": "execute_result",
          "data": {
            "text/plain": [
              "29     Israel Kills 3 Palestinians in Big Gaza Incurs...\n",
              "34     The Folly of the Sole Superpower Writ Small au...\n",
              "56     Sadr #39;s aide denies entering of Iraqi polic...\n",
              "57     Former Nazi Guard Loses Canadian Court Ruling ...\n",
              "59     Afghanistan Death Toll in 2004 Up to 957 KANDA...\n",
              "60     Portugal PM, Cabinet Submit Resignations LISBO...\n",
              "61     Typhoon-Like Gusts Hit Japan; 13 Injured TOKYO...\n",
              "63     Family appeals for release of UK hostage The f...\n",
              "69     Fallujah situation  #39;disastrous #39;, chari...\n",
              "71     Germany Extends Afghan Mission The German Parl...\n",
              "75     Report Expected to Blame 24 in Iraq Abuse WASH...\n",
              "77     Poland to Cut One-Third of Its Troops in Iraq ...\n",
              "78     Burundi Agrees to Move Tutsi Refugees to Safet...\n",
              "82     Australia investigating if Iraq body could be ...\n",
              "86     Colombian militia leader dead Bogota, Colombia...\n",
              "87     New Iraq mission for Black Watch Troops from t...\n",
              "90     Three Palestinians killed in Rafah; Palestinia...\n",
              "95     Turkish PM eyes  #39;positive #39; EU move, bu...\n",
              "104    Millions Join to Fight Bird Flu in Thailand Mi...\n",
              "105    Prices climb after bombing spree LONDON: World...\n",
              "Name: text, dtype: object"
            ]
          },
          "metadata": {},
          "execution_count": 27
        }
      ]
    },
    {
      "cell_type": "markdown",
      "source": [
        "## 4 -> 1: Entertainment"
      ],
      "metadata": {
        "id": "oCOEh9_11iZh"
      }
    },
    {
      "cell_type": "code",
      "source": [
        "df[df['kmeans_cluster'] == 4]['text'].head(30)"
      ],
      "metadata": {
        "colab": {
          "base_uri": "https://localhost:8080/"
        },
        "id": "gqh0BjmAy7Gi",
        "outputId": "04281121-4493-4626-eb7e-55bd4e9ba6ec"
      },
      "execution_count": 31,
      "outputs": [
        {
          "output_type": "execute_result",
          "data": {
            "text/plain": [
              "1      Bruce Lee statue for divided city In Bosnia, w...\n",
              "4      Qualcomm plans to phone it in on cellular repa...\n",
              "5      Thomson to Back Both Blu-ray and HD-DVD Compan...\n",
              "6      Time to Talk Baseball It's time to talk about ...\n",
              "10     Harry #39;s argy-bargy PRINCE Charles has aske...\n",
              "20     Deere's Color Is Green With big tractors, big ...\n",
              "24     Kentucky Fan Gets National Champs Tattoo. Let'...\n",
              "25     Be on TOP //www.huffingtonpost.com/entry/be-on...\n",
              "28     Cate Blanchett Set To Star As Lucille Ball In ...\n",
              "33     Memo To EPA Chief Pruitt //www.huffingtonpost....\n",
              "52     Amazon's Next Kindle May Have Better Battery L...\n",
              "62     John Waters' Women at the Film Society of Linc...\n",
              "64     Jon Voight Is 'Concerned' About Daughter Angel...\n",
              "67     Fan Picks Nose Behind TNT Broadcast Crew Winks...\n",
              "68     Satire Will Not Save Us //www.huffingtonpost.c...\n",
              "72     Up to the Challenge The Redskins contend that ...\n",
              "76     WATCH //www.huffingtonpost.com/entry/perrish-c...\n",
              "80     Robert Redford Sidesteps Oscars Controversy Bu...\n",
              "84     The Man Who Grasped the Heavens' Gravitas The ...\n",
              "92     Valiant &lt;em&gt;Reg&lt;/em&gt; readers save ...\n",
              "97     Battle of the big games \"Halo 2\" for the Xbox ...\n",
              "106    Zac Efron Can't Help But Make Fun Of His Epic ...\n",
              "108    Flint-Like Lead Hazards May Be Lurking In Priv...\n",
              "114    Prince Harry set for army career Prince Harry ...\n",
              "115    Mauresmo pulls out of Zurich Challenge World n...\n",
              "118    LeBron Attempts To Pull An Iverson On Draymond...\n",
              "126    Ivanka Trump Reportedly Won China Trademarks T...\n",
              "135    Bill Bratton Resigning As NYPD Commissioner au...\n",
              "138    The Beaune International Thriller Festival //w...\n",
              "145    Texas Officials Really Really Want You To Know...\n",
              "Name: text, dtype: object"
            ]
          },
          "metadata": {},
          "execution_count": 31
        }
      ]
    },
    {
      "cell_type": "code",
      "source": [
        "# Entertianment가 조금 더 많이 차지\n",
        "print(df['text'][1]) # Entertainment\n",
        "print(df['text'][4]) # Tech\n",
        "print(df['text'][10]) # World\n",
        "print(df['text'][62]) # Entertainment\n",
        "print(df['text'][67]) # Entertainment\n",
        "print(df['text'][72]) # Sports\n",
        "print(df['text'][84]) # Entertainment\n",
        "print(df['text'][135]) # Politics"
      ],
      "metadata": {
        "colab": {
          "base_uri": "https://localhost:8080/"
        },
        "id": "2B5F1r9b0teg",
        "outputId": "7cf2dec8-0c42-4332-f069-03997400edbc"
      },
      "execution_count": 33,
      "outputs": [
        {
          "output_type": "stream",
          "name": "stdout",
          "text": [
            "Bruce Lee statue for divided city In Bosnia, where one man #39;s hero is often another man #39;s villain, some citizens have decided to honour one whom Serbs, Croats and Muslims can all look up to - the kung fu great Bruce Lee.\n",
            "Qualcomm plans to phone it in on cellular repairs Over-the-air fixes for cell phones comes to Qualcomm's CDMA.\n",
            "Harry #39;s argy-bargy PRINCE Charles has asked Scotland Yard for an in-depth report on his son Harry #39;s trip to Argentina after reports of excessive drinking and a kidnap plot.\n",
            "John Waters' Women at the Film Society of Lincoln Center authors No one missed the irony of a John Waters retrospective at The Walter Reade Theater across Lincoln Center's plaza from Fashion Week.\n",
            "Fan Picks Nose Behind TNT Broadcast Crew Winks At Camera (VIDEO) authors By Joe Lucia Awful Announcing During Thursday's Trail Blazers-Knicks game on TNT this fan sitting behind TNT's broadcast\n",
            "Up to the Challenge The Redskins contend that last week's debacle in the secondary against the Rams isn't a true gauge of life after Champ Bailey.\n",
            "The Man Who Grasped the Heavens' Gravitas The New York Public Library focuses on Isaac Newton and the influence of his ideas in its thoughtful and engaging exhibition.\n",
            "Bill Bratton Resigning As NYPD Commissioner authors Bratton was appointed by Mayor Bill de Blasio in 2014.\n"
          ]
        }
      ]
    },
    {
      "cell_type": "markdown",
      "source": [
        "## 5 -> 0: Business"
      ],
      "metadata": {
        "id": "I34d3DUw2BbQ"
      }
    },
    {
      "cell_type": "code",
      "source": [
        "df[df['kmeans_cluster'] == 5]['text'].head(20)"
      ],
      "metadata": {
        "colab": {
          "base_uri": "https://localhost:8080/"
        },
        "id": "MQFqMtux03gi",
        "outputId": "28d04362-bafd-4558-cbb4-6be4afd6a552"
      },
      "execution_count": 35,
      "outputs": [
        {
          "output_type": "execute_result",
          "data": {
            "text/plain": [
              "27     Kmart-Sears merger about price, quality Averag...\n",
              "51     Oil Falls Below \\$49 on Nigeria Cease-Fire LON...\n",
              "70     ABN Amro Profit Rises, Buoyed by Sale of Asia ...\n",
              "85     Stocks to Open Higher on Growth Outlook NEW YO...\n",
              "98     Producer Prices Up 0.1 Pct, Energy Drops (Reut...\n",
              "99     Rigel, Merck Form Development Partnership NEW ...\n",
              "110    Lan switch sales looking good for 2004 Despite...\n",
              "111    Oil rallies to new record high Crude oil futur...\n",
              "124    Tuesday Morning Lowers 2004 Guidance Home acce...\n",
              "140    Durable Goods, Housing Data Trip Stocks NEW YO...\n",
              "161    NYSE probing late trading for price manipulati...\n",
              "183    Boston Scientific #39;s Taxus Sales Rebounded ...\n",
              "190    China to lead recovey in air travel industry G...\n",
              "196    Qantas Not Lifting Fuel Surcharge On Tickets -...\n",
              "251    DAILY DIGEST With time running out and its fut...\n",
              "284    Stocks Climb on Positive GDP Figure News NEW Y...\n",
              "290    Intel Raises 4th-Quarter Sales Forecast Intel ...\n",
              "296    News deal paves way for move GLOBAL media gian...\n",
              "316    T in the Park sells out in days Tickets for Sc...\n",
              "320    Seagate Raises Revenue Forecast &lt;p&gt;&lt;/...\n",
              "Name: text, dtype: object"
            ]
          },
          "metadata": {},
          "execution_count": 35
        }
      ]
    },
    {
      "cell_type": "code",
      "source": [
        "# 대체로 Business 내용\n",
        "print(df['text'][27]) # Business\n",
        "print(df['text'][99]) # Business\n",
        "print(df['text'][110]) # Business\n",
        "print(df['text'][124]) # Business\n",
        "print(df['text'][161]) # Business\n",
        "print(df['text'][251]) # Business\n",
        "print(df['text'][290]) # Business\n",
        "print(df['text'][316]) # Entertainment\n",
        "print(df['text'][320]) # Business"
      ],
      "metadata": {
        "colab": {
          "base_uri": "https://localhost:8080/"
        },
        "id": "nLSDZMgu1oAL",
        "outputId": "6f070dae-e9f5-4d16-b0a0-66b6c0924f34"
      },
      "execution_count": 36,
      "outputs": [
        {
          "output_type": "stream",
          "name": "stdout",
          "text": [
            "Kmart-Sears merger about price, quality Average customers know the same thing that ministers of high finance understand: It #39;s all about the price. Shoppers Thursday at the Billings Sears store were eager to find out what a proposed\n",
            "Rigel, Merck Form Development Partnership NEW YORK (Reuters) - Biotechnology company Rigel  Pharmaceuticals Inc. &lt;A HREF=\"http://www.investor.reuters.com/FullQuote.aspx?ticker=RIGL.O target=/stocks/quickinfo/fullquote\"&gt;RIGL.O&lt;/A&gt; has entered into a collaboration  pact with drugmaker Merck   Co. Inc. &lt;A HREF=\"http://www.investor.reuters.com/FullQuote.aspx?ticker=MRK.N target=/stocks/quickinfo/fullquote\"&gt;MRK.N&lt;/A&gt; to find treatments  for cancer and potentially other diseases, Rigel said on  Monday.\n",
            "Lan switch sales looking good for 2004 Despite a decline of two per cent in the second quarter of 2004, the global market for local area network (Lan) switches remains up 23 per cent year over year, the latest market research from IDC has found.\n",
            "Tuesday Morning Lowers 2004 Guidance Home accessories and gift retailer Tuesday Morning Corp. on Monday lowered its 2004 earnings guidance and forecast fourth-quarter results below Wall Street expectations on lower-than-expected seasonal sales.\n",
            "NYSE probing late trading for price manipulation New York Stock Exchange regulators said on Thursday they are investigating firms that send in trades in the last seconds of the day designed to manipulate the final price of shares at the closing bell.\n",
            "DAILY DIGEST With time running out and its future on the line, US Airways will look to the leaders of the pilots union to do Wednesday what the union #39;s negotiators refused to do over the weekend: accept the airline #39;s demand for \\$295 million in pay and benefit cuts.\n",
            "Intel Raises 4th-Quarter Sales Forecast Intel Corp.'s fourth-quarter sales are on track to break a company record as demand for the chips that power computers was stronger than originally expected in the weeks leading up to the holiday buying season.\n",
            "T in the Park sells out in days Tickets for Scotland's biggest music festival have sold out in record time, five months before the event is held.  The 12th annual T in the Park festival, which takes place at Balado near Kinross in July, sold out just four days after the line-up was announced. Green Day, the Foo Fighters and Keane are among the acts that had already been lined up to appear at the event. However, the organisers have revealed Scots favourites Travis as well as soulman James Brown will also appear.  Last year tickets sold out 10 weeks before the festival but organisers confirmed that all 130,000 for the two-day event had been sold. Geoff Ellis, CEO of festival organisers Big Day Out Ltd, said this year's event promises to be the best yet. \"After last year's sell-out, we did think this year's event would sell slightly earlier, however this is way beyond our expectations,\" Mr Ellis said.  \"We are extremely proud that fans are so excited about T in the Park that they have made absolutely sure that their place at Balado is booked for 2005, and we will deliver one of the greatest events yet for them in July.\" More than 120 acts will play on eight stages over the weekend of 9 and 10 July. Brit Award winners Keane and The Streets are among the main attractions, while The Killers and dance act The Prodigy are also on the bill. Both Green Day and The Foo Fighters last played at the festival in 2002, the same year Oasis and Basement Jaxx were among the headline acts.\n",
            "Seagate Raises Revenue Forecast &lt;p&gt;&lt;/p&gt;&lt;p&gt; NEW YORK (Reuters) - Seagate Technology &lt;STX.N&gt;, the topU.S. maker of hard drives used to store data in computers, onTuesday forecast quarterly revenue above Wall Street estimateson strong demand for storage for larger business computers.&lt;/p&gt;\n"
          ]
        }
      ]
    },
    {
      "cell_type": "code",
      "source": [
        "mapping_dict = {\n",
        "    0: 2,\n",
        "    1: 4,\n",
        "    2: 3,\n",
        "    3: 5,\n",
        "    4: 1,\n",
        "    5: 0\n",
        "}"
      ],
      "metadata": {
        "id": "MouprURr1yfD"
      },
      "execution_count": 37,
      "outputs": []
    },
    {
      "cell_type": "code",
      "source": [
        "df['mapping'] = df['kmeans_cluster'].apply(lambda x: mapping_dict[x])"
      ],
      "metadata": {
        "id": "ukIXAdPM36xG"
      },
      "execution_count": 38,
      "outputs": []
    },
    {
      "cell_type": "code",
      "source": [
        "result_df = pd.read_csv('sample_submission.csv')"
      ],
      "metadata": {
        "id": "oPdGacjm39a3"
      },
      "execution_count": 39,
      "outputs": []
    },
    {
      "cell_type": "code",
      "source": [
        "result_df['category'] = df['mapping'].values"
      ],
      "metadata": {
        "id": "pNs3sX5U4C9W"
      },
      "execution_count": 40,
      "outputs": []
    },
    {
      "cell_type": "code",
      "source": [
        "result_df['category'].head(20)"
      ],
      "metadata": {
        "colab": {
          "base_uri": "https://localhost:8080/"
        },
        "id": "X-1r0sBC4MYg",
        "outputId": "cf1d7264-5453-4310-b5e7-2251430707f0"
      },
      "execution_count": 41,
      "outputs": [
        {
          "output_type": "execute_result",
          "data": {
            "text/plain": [
              "0     3\n",
              "1     1\n",
              "2     3\n",
              "3     4\n",
              "4     1\n",
              "5     1\n",
              "6     1\n",
              "7     4\n",
              "8     2\n",
              "9     2\n",
              "10    1\n",
              "11    2\n",
              "12    2\n",
              "13    3\n",
              "14    2\n",
              "15    2\n",
              "16    3\n",
              "17    2\n",
              "18    2\n",
              "19    2\n",
              "Name: category, dtype: int64"
            ]
          },
          "metadata": {},
          "execution_count": 41
        }
      ]
    },
    {
      "cell_type": "code",
      "source": [
        "result_df.to_csv('result_submission.csv', index=False)"
      ],
      "metadata": {
        "id": "YFVM7uAe4XiG"
      },
      "execution_count": 42,
      "outputs": []
    }
  ]
}